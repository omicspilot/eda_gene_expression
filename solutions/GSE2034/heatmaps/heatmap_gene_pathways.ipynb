{
 "cells": [
  {
   "cell_type": "markdown",
   "id": "99cced4f",
   "metadata": {},
   "source": [
    "# 📘 Heatmap by Gene Pathways\n",
    "\n",
    "This notebook generates heatmaps for specific gene sets (e.g., signaling pathways or biological processes). It helps assess how tightly genes in a given pathway are co-expressed."
   ]
  },
  {
   "cell_type": "code",
   "execution_count": null,
   "id": "662c9ca4",
   "metadata": {},
   "outputs": [],
   "source": [
    "import pandas as pd\n",
    "import seaborn as sns\n",
    "import matplotlib.pyplot as plt\n",
    "\n",
    "# Load full expression data\n",
    "df = pd.read_csv('your_expression_data.csv', index_col=0)\n",
    "\n",
    "# Define gene groups (replace with your actual gene lists)\n",
    "pathways = {\n",
    "    'Apoptosis': ['TP53', 'CASP3', 'BAX'],\n",
    "    'Cell_Cycle': ['CDK1', 'CDK2', 'CCND1'],\n",
    "}\n",
    "\n",
    "for pathway_name, genes in pathways.items():\n",
    "    # Filter for selected genes\n",
    "    subset = df[genes]\n",
    "\n",
    "    # Compute correlation\n",
    "    corr = subset.corr()\n",
    "\n",
    "    # Plot heatmap\n",
    "    plt.figure(figsize=(6, 5))\n",
    "    sns.heatmap(corr, cmap='viridis', annot=True)\n",
    "    plt.title(f'Correlation Heatmap: {pathway_name} Genes')\n",
    "    plt.show()"
   ]
  }
 ],
 "metadata": {},
 "nbformat": 4,
 "nbformat_minor": 5
}
