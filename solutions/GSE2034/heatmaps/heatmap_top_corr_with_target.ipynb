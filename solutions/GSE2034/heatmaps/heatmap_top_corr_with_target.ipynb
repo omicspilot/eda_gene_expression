{
 "cells": [
  {
   "cell_type": "markdown",
   "id": "ab6de8fc",
   "metadata": {},
   "source": [
    "# 📘 Top Genes Correlated with Clinical Outcome\n",
    "\n",
    "This notebook highlights the top genes most strongly correlated with a clinical outcome (e.g., survival duration). It enables a focused look at genes that may serve as prognostic markers."
   ]
  },
  {
   "cell_type": "code",
   "execution_count": null,
   "id": "225d7c94",
   "metadata": {},
   "outputs": [],
   "source": [
    "import pandas as pd\n",
    "import seaborn as sns\n",
    "import matplotlib.pyplot as plt\n",
    "\n",
    "# Load data\n",
    "df = pd.read_csv('merged_expression_clinical.csv', index_col=0)\n",
    "\n",
    "# Define target variable\n",
    "target = 'Survival_Months'\n",
    "\n",
    "# Compute correlation with the target\n",
    "correlations = df.corr()[target].drop(target)\n",
    "\n",
    "# Select top positively and negatively correlated genes\n",
    "top_genes = correlations.abs().sort_values(ascending=False).head(10).index\n",
    "\n",
    "# Extract correlation matrix for those genes\n",
    "heatmap_data = df[top_genes].corr()\n",
    "\n",
    "# Plot heatmap\n",
    "plt.figure(figsize=(8, 6))\n",
    "sns.heatmap(heatmap_data, annot=True, cmap='coolwarm')\n",
    "plt.title(f'Top Genes Correlated with {target}')\n",
    "plt.show()"
   ]
  }
 ],
 "metadata": {},
 "nbformat": 4,
 "nbformat_minor": 5
}
