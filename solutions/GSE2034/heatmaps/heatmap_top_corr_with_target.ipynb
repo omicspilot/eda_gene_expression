{
 "cells": [
  {
   "cell_type": "markdown",
   "id": "1774531f",
   "metadata": {},
   "source": [
    "# 📘 Top Genes Correlated with Clinical Outcome\n",
    "\n",
    "Identify and visualize the top genes associated with a target clinical variable."
   ]
  },
  {
   "cell_type": "markdown",
   "id": "7500bdfc",
   "metadata": {},
   "source": [
    "## 🔧 Step 1: Import Required Libraries"
   ]
  },
  {
   "cell_type": "code",
   "execution_count": null,
   "id": "a8198400",
   "metadata": {},
   "outputs": [],
   "source": [
    "import pandas as pd\n",
    "import seaborn as sns\n",
    "import matplotlib.pyplot as plt"
   ]
  },
  {
   "cell_type": "markdown",
   "id": "7502fa39",
   "metadata": {},
   "source": [
    "## 📂 Step 2: Load Merged Data"
   ]
  },
  {
   "cell_type": "code",
   "execution_count": null,
   "id": "18819aa1",
   "metadata": {},
   "outputs": [],
   "source": [
    "df = pd.read_csv('merged_expression_clinical.csv', index_col=0)"
   ]
  },
  {
   "cell_type": "markdown",
   "id": "06545869",
   "metadata": {},
   "source": [
    "## 🎯 Step 3: Define the Clinical Target"
   ]
  },
  {
   "cell_type": "code",
   "execution_count": null,
   "id": "f353cea7",
   "metadata": {},
   "outputs": [],
   "source": [
    "target = 'Survival_Months'"
   ]
  },
  {
   "cell_type": "markdown",
   "id": "a02712d8",
   "metadata": {},
   "source": [
    "## 🧮 Step 4: Compute Correlations with Target"
   ]
  },
  {
   "cell_type": "code",
   "execution_count": null,
   "id": "ba639618",
   "metadata": {},
   "outputs": [],
   "source": [
    "correlations = df.corr()[target].drop(target)"
   ]
  },
  {
   "cell_type": "markdown",
   "id": "d838d743",
   "metadata": {},
   "source": [
    "## 🔝 Step 5: Select Top Correlated Genes"
   ]
  },
  {
   "cell_type": "code",
   "execution_count": null,
   "id": "4a1ee4ab",
   "metadata": {},
   "outputs": [],
   "source": [
    "top_genes = correlations.abs().sort_values(ascending=False).head(10).index"
   ]
  },
  {
   "cell_type": "markdown",
   "id": "180c83d0",
   "metadata": {},
   "source": [
    "## 📊 Step 6: Plot Heatmap of Top Genes"
   ]
  },
  {
   "cell_type": "code",
   "execution_count": null,
   "id": "4b80f23a",
   "metadata": {},
   "outputs": [],
   "source": [
    "heatmap_data = df[top_genes].corr()\n",
    "plt.figure(figsize=(8, 6))\n",
    "sns.heatmap(heatmap_data, annot=True, cmap='coolwarm')\n",
    "plt.title(f'Top Genes Correlated with {target}')\n",
    "plt.show()"
   ]
  }
 ],
 "metadata": {},
 "nbformat": 4,
 "nbformat_minor": 5
}
