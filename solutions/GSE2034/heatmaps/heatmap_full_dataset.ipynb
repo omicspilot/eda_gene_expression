{
 "cells": [
  {
   "cell_type": "markdown",
   "id": "8ac54669",
   "metadata": {},
   "source": [
    "# 📘 Heatmap of Entire Gene Expression Dataset\n",
    "\n",
    "This notebook visualizes the correlation matrix of all genes in the dataset. It provides a global view of how gene expressions relate to one another, which may help in detecting gene clusters or global co-expression patterns."
   ]
  },
  {
   "cell_type": "code",
   "execution_count": null,
   "id": "f932eccb",
   "metadata": {},
   "outputs": [],
   "source": [
    "# Import standard libraries\n",
    "import pandas as pd\n",
    "import seaborn as sns\n",
    "import matplotlib.pyplot as plt\n",
    "\n",
    "# Load your expression data\n",
    "# Replace 'your_expression_data.csv' with your actual data file\n",
    "df = pd.read_csv('your_expression_data.csv', index_col=0)\n",
    "\n",
    "# Compute the correlation matrix for all genes\n",
    "corr_matrix = df.corr()\n",
    "\n",
    "# Plot the heatmap\n",
    "plt.figure(figsize=(15, 12))\n",
    "sns.heatmap(corr_matrix, cmap='coolwarm', center=0)\n",
    "plt.title('Correlation Heatmap of All Genes')\n",
    "plt.show()"
   ]
  }
 ],
 "metadata": {},
 "nbformat": 4,
 "nbformat_minor": 5
}
