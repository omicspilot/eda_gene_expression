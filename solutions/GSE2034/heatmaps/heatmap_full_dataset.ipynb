{
 "cells": [
  {
   "cell_type": "markdown",
   "id": "d6cdb1a1",
   "metadata": {},
   "source": [
    "# 📘 Heatmap of Entire Gene Expression Dataset\n",
    "\n",
    "This notebook visualizes the correlation matrix across the entire gene expression dataset.\n",
    "A heatmap of gene-gene correlations can reveal clusters of co-expressed genes, which might suggest\n",
    "shared regulation or functional relationships."
   ]
  },
  {
   "cell_type": "markdown",
   "id": "b8528951",
   "metadata": {},
   "source": [
    "## 🔧 Step 1: Import Required Libraries\n",
    "We use `pandas` for data handling, `seaborn` for plotting heatmaps, and `matplotlib` for display."
   ]
  },
  {
   "cell_type": "code",
   "execution_count": null,
   "id": "a8bd6da5",
   "metadata": {},
   "outputs": [],
   "source": [
    "import pandas as pd\n",
    "import seaborn as sns\n",
    "import matplotlib.pyplot as plt"
   ]
  },
  {
   "cell_type": "markdown",
   "id": "ec8fb184",
   "metadata": {},
   "source": [
    "## 📂 Step 2: Load the Expression Data\n",
    "Ensure your dataset is in CSV format with genes as columns and samples as rows. The first column should contain sample IDs."
   ]
  },
  {
   "cell_type": "code",
   "execution_count": null,
   "id": "1d4c8833",
   "metadata": {},
   "outputs": [],
   "source": [
    "# Replace 'your_expression_data.csv' with your actual data file\n",
    "df = pd.read_csv('your_expression_data.csv', index_col=0)\n",
    "df.head()"
   ]
  },
  {
   "cell_type": "markdown",
   "id": "ad5a4944",
   "metadata": {},
   "source": [
    "## 🧮 Step 3: Compute the Correlation Matrix\n",
    "We calculate Pearson correlations between all gene expression profiles."
   ]
  },
  {
   "cell_type": "code",
   "execution_count": null,
   "id": "55946eef",
   "metadata": {},
   "outputs": [],
   "source": [
    "corr_matrix = df.corr()\n",
    "corr_matrix.head()"
   ]
  },
  {
   "cell_type": "markdown",
   "id": "103ba7eb",
   "metadata": {},
   "source": [
    "## 📊 Step 4: Plot the Heatmap\n",
    "Visualize the full correlation matrix with a diverging colormap (`coolwarm`) to highlight positive vs negative correlations."
   ]
  },
  {
   "cell_type": "code",
   "execution_count": null,
   "id": "ded14fcb",
   "metadata": {},
   "outputs": [],
   "source": [
    "plt.figure(figsize=(15, 12))\n",
    "sns.heatmap(corr_matrix, cmap='coolwarm', center=0)\n",
    "plt.title('Correlation Heatmap of All Genes')\n",
    "plt.show()"
   ]
  }
 ],
 "metadata": {},
 "nbformat": 4,
 "nbformat_minor": 5
}
