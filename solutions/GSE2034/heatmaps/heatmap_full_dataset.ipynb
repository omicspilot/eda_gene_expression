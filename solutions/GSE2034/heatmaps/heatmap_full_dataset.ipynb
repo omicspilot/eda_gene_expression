{
 "cells": [
  {
   "cell_type": "code",
   "execution_count": null,
   "id": "72cfd6b3",
   "metadata": {},
   "outputs": [],
   "source": [
    "import pandas as pd\n",
    "import seaborn as sns\n",
    "\n",
    "# Import standard libraries\n",
    "import matplotlib.pyplot as plt\n"
   ]
  },
  {
   "cell_type": "code",
   "execution_count": null,
   "id": "795bd964",
   "metadata": {},
   "outputs": [],
   "source": [
    "# Load your expression data\n",
    "# Replace 'your_expression_data.csv' with your actual data file\n",
    "df = pd.read_csv('../../data/raw/GSE2034.csv', index_col=0)"
   ]
  },
  {
   "cell_type": "code",
   "execution_count": null,
   "id": "99c3e742",
   "metadata": {},
   "outputs": [],
   "source": [
    "# Compute the correlation matrix for all genes\n",
    "corr_matrix = df.corr()"
   ]
  },
  {
   "cell_type": "code",
   "execution_count": null,
   "id": "d1c10bc9",
   "metadata": {},
   "outputs": [],
   "source": [
    "plt.figure(figsize=(15, 12))\n",
    "sns.heatmap(corr_matrix, cmap='coolwarm', center=0)\n",
    "plt.title('Correlation Heatmap of All Genes')\n",
    "plt.show()"
   ]
  }
 ],
 "metadata": {
  "kernelspec": {
   "display_name": "Python 3",
   "language": "python",
   "name": "python3"
  },
  "language_info": {
   "name": "python",
   "version": "3.11.1"
  }
 },
 "nbformat": 4,
 "nbformat_minor": 5
}
