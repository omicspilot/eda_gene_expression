{
 "cells": [
  {
   "cell_type": "markdown",
   "id": "d2469391",
   "metadata": {},
   "source": [
    "# 📘 Correlation Between Gene Expression and Clinical Features\n",
    "\n",
    "This notebook explores the relationships between gene expression and clinical variables such as patient age, tumor size, and survival duration. It is useful for identifying clinically relevant biomarkers."
   ]
  },
  {
   "cell_type": "code",
   "execution_count": null,
   "id": "8f778538",
   "metadata": {},
   "outputs": [],
   "source": [
    "import pandas as pd\n",
    "import seaborn as sns\n",
    "import matplotlib.pyplot as plt\n",
    "\n",
    "# Load expression and clinical data\n",
    "expression_df = pd.read_csv('your_expression_data.csv', index_col=0)\n",
    "clinical_df = pd.read_csv('your_clinical_data.csv', index_col=0)\n",
    "\n",
    "# Merge both on patient ID\n",
    "merged_df = pd.merge(expression_df, clinical_df, left_index=True, right_index=True)\n",
    "\n",
    "# Select relevant columns\n",
    "gene_cols = expression_df.columns[:50]  # or pick genes manually\n",
    "clinical_cols = ['Age', 'Tumor_Size', 'Survival_Months']\n",
    "\n",
    "# Calculate correlation matrix\n",
    "corr = merged_df[gene_cols + clinical_cols].corr()\n",
    "\n",
    "# Focus on correlations between clinical and gene variables\n",
    "heatmap_data = corr.loc[clinical_cols, gene_cols]\n",
    "\n",
    "# Plot heatmap\n",
    "plt.figure(figsize=(16, 5))\n",
    "sns.heatmap(heatmap_data, cmap='coolwarm', annot=False)\n",
    "plt.title('Correlation Between Clinical Features and Gene Expression')\n",
    "plt.xlabel(\"Genes\")\n",
    "plt.ylabel(\"Clinical Variables\")\n",
    "plt.show()"
   ]
  }
 ],
 "metadata": {},
 "nbformat": 4,
 "nbformat_minor": 5
}
