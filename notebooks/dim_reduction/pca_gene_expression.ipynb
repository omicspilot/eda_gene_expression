{
 "cells": [
  {
   "cell_type": "markdown",
   "id": "70b93d32",
   "metadata": {},
   "source": [
    "# 📘 Principal Component Analysis (PCA)\n",
    "\n",
    "Apply PCA to reduce the dimensionality of gene expression data and visualize the main sources of variance."
   ]
  },
  {
   "cell_type": "markdown",
   "id": "91c7c498",
   "metadata": {},
   "source": [
    "### 🔧 Step 1: Import Required Libraries"
   ]
  },
  {
   "cell_type": "code",
   "execution_count": null,
   "id": "353ca2db",
   "metadata": {},
   "outputs": [],
   "source": [
    "import pandas as pd\n",
    "import matplotlib.pyplot as plt\n",
    "from sklearn.decomposition import PCA\n",
    "from sklearn.preprocessing import StandardScaler\n",
    "import seaborn as sns"
   ]
  },
  {
   "cell_type": "markdown",
   "id": "7103d14d",
   "metadata": {},
   "source": [
    "### 📂 Step 2: Load the Gene Expression Dataset"
   ]
  },
  {
   "cell_type": "code",
   "execution_count": null,
   "id": "bdef9c8c",
   "metadata": {},
   "outputs": [],
   "source": [
    "# Load the gene expression dataset from a CSV file, using the first column as the index\n",
    "df = pd.read_csv('your_expression_data.csv', index_col=0)\n",
    "\n",
    "# Display the first few rows of the dataset to verify it loaded correctly\n",
    "df.head()"
   ]
  },
  {
   "cell_type": "markdown",
   "id": "54bebc7c",
   "metadata": {},
   "source": [
    "### ⚖️ Step 3: Standardize the Data"
   ]
  },
  {
   "cell_type": "code",
   "execution_count": null,
   "id": "85aca59c",
   "metadata": {},
   "outputs": [],
   "source": [
    "# Initialize the StandardScaler to standardize the dataset\n",
    "scaler = StandardScaler()\n",
    "\n",
    "# Fit the scaler to the data and transform it to have zero mean and unit variance\n",
    "scaled_data = scaler.fit_transform(df)"
   ]
  },
  {
   "cell_type": "markdown",
   "id": "ab37c436",
   "metadata": {},
   "source": [
    "### 📉 Step 4: Apply PCA"
   ]
  },
  {
   "cell_type": "code",
   "execution_count": null,
   "id": "c41fb036",
   "metadata": {},
   "outputs": [],
   "source": [
    "# Initialize PCA with the number of components to retain (2 in this case)\n",
    "pca = PCA(n_components=2)\n",
    "\n",
    "# Fit the PCA model to the standardized data and transform it to the new principal component space\n",
    "pca_result = pca.fit_transform(scaled_data)\n",
    "\n",
    "# Create a DataFrame to store the PCA results with appropriate column names\n",
    "pca_df = pd.DataFrame(data=pca_result, columns=['PC1', 'PC2'])\n",
    "\n",
    "# Set the index of the PCA DataFrame to match the original dataset's index\n",
    "pca_df.index = df.index\n",
    "\n",
    "# Display the first few rows of the PCA results to verify\n",
    "pca_df.head()"
   ]
  },
  {
   "cell_type": "markdown",
   "id": "80a0ba84",
   "metadata": {},
   "source": [
    "### 📊 Step 5: Visualize the PCA Results"
   ]
  },
  {
   "cell_type": "code",
   "execution_count": null,
   "id": "517c5076",
   "metadata": {},
   "outputs": [],
   "source": [
    "# Set the figure size for the plot\n",
    "plt.figure(figsize=(8,6))\n",
    "\n",
    "# Create a scatter plot of the PCA results using seaborn\n",
    "sns.scatterplot(data=pca_df, x='PC1', y='PC2')\n",
    "\n",
    "# Set the title of the plot\n",
    "plt.title('PCA of Gene Expression Data')\n",
    "\n",
    "# Label the x-axis as 'Principal Component 1'\n",
    "plt.xlabel('Principal Component 1')\n",
    "\n",
    "# Label the y-axis as 'Principal Component 2'\n",
    "plt.ylabel('Principal Component 2')\n",
    "\n",
    "# Add a grid to the plot for better readability\n",
    "plt.grid(True)\n",
    "\n",
    "# Display the plot\n",
    "plt.show()"
   ]
  },
  {
   "cell_type": "markdown",
   "id": "43cd95ff",
   "metadata": {},
   "source": [
    "### 🏷️ Optional: Load Labels for Coloring"
   ]
  },
  {
   "cell_type": "code",
   "execution_count": null,
   "id": "a92c631a",
   "metadata": {},
   "outputs": [],
   "source": [
    "# Uncomment and use if you have a label file\n",
    "# labels = pd.read_csv('your_labels.csv', index_col=0).squeeze()\n",
    "# df['Label'] = labels"
   ]
  },
  {
   "cell_type": "markdown",
   "id": "563b95ea",
   "metadata": {},
   "source": [
    "### 💾 Optional: Save Transformed Data"
   ]
  },
  {
   "cell_type": "code",
   "execution_count": null,
   "id": "a170ad10",
   "metadata": {},
   "outputs": [],
   "source": [
    "# Save the result of Principal Component Analysis (PCA) transformation\n",
    "# principal component analysis (pca)_df.to_csv('principal component analysis (pca)_result.csv')"
   ]
  },
  {
   "cell_type": "markdown",
   "id": "9f74a46d",
   "metadata": {},
   "source": [
    "### 🌐 Optional: 3D Visualization"
   ]
  },
  {
   "cell_type": "code",
   "execution_count": null,
   "id": "a3a7f5b7",
   "metadata": {},
   "outputs": [],
   "source": [
    "# Import the 3D plotting toolkit from matplotlib\n",
    "from mpl_toolkits.mplot3d import Axes3D\n",
    "\n",
    "# Create a new figure with a specified size for the 3D plot\n",
    "fig = plt.figure(figsize=(10, 7))\n",
    "\n",
    "# Add a 3D subplot to the figure for creating 3D visualizations\n",
    "ax = fig.add_subplot(111, projection='3d')\n",
    "\n",
    "\n",
    "# Uncomment and modify if you have 3D data\n",
    "# ax.scatter(embedded_df['X'], embedded_df['Y'], embedded_df['Z'], c=labels, cmap='viridis')\n",
    "# ax.set_title('3D Visualization')\n",
    "# plt.show()"
   ]
  },
  {
   "cell_type": "markdown",
   "id": "9e68cd42",
   "metadata": {},
   "source": [
    "### 🎛️ Optional: Interactive Parameters (Requires ipywidgets)"
   ]
  },
  {
   "cell_type": "code",
   "execution_count": null,
   "id": "a1bf767e",
   "metadata": {},
   "outputs": [],
   "source": [
    "# Import the interact function from ipywidgets for creating interactive widgets\n",
    "from ipywidgets import interact\n",
    "\n",
    "# Define a function to update the PCA visualization based on the number of components\n",
    "def update(n_components=2):\n",
    "    # Initialize a PCA model with the specified number of components\n",
    "    model = PCA(n_components=n_components)\n",
    "    \n",
    "    # Fit the PCA model to the standardized data and transform it\n",
    "    result = model.fit_transform(scaled_data)\n",
    "    \n",
    "    # Create a DataFrame to store the PCA results with dynamic column names\n",
    "    df_plot = pd.DataFrame(result, columns=['Component {}'.format(i+1) for i in range(n_components)])\n",
    "    \n",
    "    # Set the figure size for the plot\n",
    "    plt.figure(figsize=(8, 6))\n",
    "    \n",
    "    # Create a scatter plot of the first two principal components using seaborn\n",
    "    sns.scatterplot(x=df_plot.iloc[:, 0], y=df_plot.iloc[:, 1])\n",
    "    \n",
    "    # Set the title of the plot\n",
    "    plt.title('Principal Component Analysis (PCA) Interactive')\n",
    "    \n",
    "    # Label the x-axis as 'Component 1'\n",
    "    plt.xlabel('Component 1')\n",
    "    \n",
    "    # Label the y-axis as 'Component 2'\n",
    "    plt.ylabel('Component 2')\n",
    "    \n",
    "    # Add a grid to the plot for better readability\n",
    "    plt.grid(True)\n",
    "    \n",
    "    # Display the plot\n",
    "    plt.show()\n",
    "\n",
    "# Create an interactive widget to adjust the number of PCA components dynamically\n",
    "interact(update, n_components=(2, 10))"
   ]
  }
 ],
 "metadata": {
  "language_info": {
   "name": "python"
  }
 },
 "nbformat": 4,
 "nbformat_minor": 5
}
