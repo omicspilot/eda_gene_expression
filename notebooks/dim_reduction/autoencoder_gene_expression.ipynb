{
 "cells": [
  {
   "cell_type": "markdown",
   "id": "a54cb5f6",
   "metadata": {},
   "source": [
    "# 📘 Autoencoder (Neural Network)\n",
    "\n",
    "Use an unsupervised deep learning model (autoencoder) to learn compressed representations of gene expression data."
   ]
  },
  {
   "cell_type": "markdown",
   "id": "f7842f8e",
   "metadata": {},
   "source": [
    "### 🔧 Step 1: Import Required Libraries"
   ]
  },
  {
   "cell_type": "code",
   "execution_count": null,
   "id": "bde86beb",
   "metadata": {},
   "outputs": [],
   "source": [
    "import pandas as pd\n",
    "import matplotlib.pyplot as plt\n",
    "import seaborn as sns\n",
    "from sklearn.preprocessing import StandardScaler\n",
    "from tensorflow.keras.models import Model\n",
    "from tensorflow.keras.layers import Input, Dense\n",
    "from tensorflow.keras.optimizers import Adam"
   ]
  },
  {
   "cell_type": "markdown",
   "id": "684f7f15",
   "metadata": {},
   "source": [
    "### 📂 Step 2: Load and Standardize Dataset"
   ]
  },
  {
   "cell_type": "code",
   "execution_count": null,
   "id": "612dceb1",
   "metadata": {},
   "outputs": [],
   "source": [
    "# Load the gene expression dataset from a CSV file, using the first column as the index\n",
    "df = pd.read_csv('your_expression_data.csv', index_col=0)\n",
    "\n",
    "# Initialize a StandardScaler to standardize the dataset (mean=0, variance=1)\n",
    "scaler = StandardScaler()\n",
    "\n",
    "# Apply the scaler to the dataset to transform it into a standardized form\n",
    "scaled_data = scaler.fit_transform(df)"
   ]
  },
  {
   "cell_type": "markdown",
   "id": "cfe94de6",
   "metadata": {},
   "source": [
    "### 🤖 Step 3: Build and Train Autoencoder"
   ]
  },
  {
   "cell_type": "code",
   "execution_count": null,
   "id": "052b6b6e",
   "metadata": {},
   "outputs": [],
   "source": [
    "# Get the number of input features (dimensionality of the dataset)\n",
    "input_dim = scaled_data.shape[1]\n",
    "\n",
    "# Define the input layer with the shape equal to the number of input features\n",
    "input_layer = Input(shape=(input_dim,))\n",
    "\n",
    "# Add the first hidden layer to encode the input into 64 dimensions with ReLU activation\n",
    "encoded = Dense(64, activation='relu')(input_layer)\n",
    "\n",
    "# Add the second hidden layer to reduce the encoding to 2 dimensions with linear activation\n",
    "encoded = Dense(2, activation='linear')(encoded)\n",
    "\n",
    "# Add the first decoding layer to expand the 2-dimensional encoding back to 64 dimensions with ReLU activation\n",
    "decoded = Dense(64, activation='relu')(encoded)\n",
    "\n",
    "# Add the output layer to reconstruct the input with the same dimensionality as the original data\n",
    "decoded = Dense(input_dim, activation='linear')(decoded)\n",
    "\n",
    "# Create the autoencoder model by specifying the input and output layers\n",
    "autoencoder = Model(inputs=input_layer, outputs=decoded)\n",
    "\n",
    "# Compile the autoencoder model with the Adam optimizer and mean squared error (MSE) loss function\n",
    "autoencoder.compile(optimizer=Adam(), loss='mse')\n",
    "\n",
    "# Train the autoencoder on the standardized dataset for 50 epochs with a batch size of 32\n",
    "autoencoder.fit(scaled_data, scaled_data, epochs=50, batch_size=32, verbose=0)\n",
    "\n",
    "# Create a separate encoder model to extract the encoded (compressed) representation\n",
    "encoder = Model(inputs=input_layer, outputs=encoded)\n",
    "\n",
    "# Use the encoder to predict (generate) the encoded representation of the standardized dataset\n",
    "encoded_data = encoder.predict(scaled_data)\n",
    "\n",
    "# Convert the encoded representation into a DataFrame with column names 'Enc1' and 'Enc2'\n",
    "auto_df = pd.DataFrame(encoded_data, columns=['Enc1', 'Enc2'])"
   ]
  },
  {
   "cell_type": "markdown",
   "id": "c8024f86",
   "metadata": {},
   "source": [
    "### 📊 Step 4: Visualize Encoded 2D Representation"
   ]
  },
  {
   "cell_type": "code",
   "execution_count": null,
   "id": "037cbaed",
   "metadata": {},
   "outputs": [],
   "source": [
    "# Create a new figure with specified dimensions\n",
    "plt.figure(figsize=(8,6))\n",
    "\n",
    "# Create a scatter plot using the encoded data, with 'Enc1' on the x-axis and 'Enc2' on the y-axis\n",
    "sns.scatterplot(data=auto_df, x='Enc1', y='Enc2')\n",
    "\n",
    "# Set the title of the plot\n",
    "plt.title('2D Representation from Autoencoder')\n",
    "\n",
    "# Label the x-axis as 'Encoded Feature 1'\n",
    "plt.xlabel('Encoded Feature 1')\n",
    "\n",
    "# Label the y-axis as 'Encoded Feature 2'\n",
    "plt.ylabel('Encoded Feature 2')\n",
    "\n",
    "# Add a grid to the plot for better readability\n",
    "plt.grid(True)\n",
    "\n",
    "# Display the plot\n",
    "plt.show()"
   ]
  },
  {
   "cell_type": "markdown",
   "id": "4b610e8c",
   "metadata": {},
   "source": [
    "### 🏷️ Optional: Load Labels for Coloring"
   ]
  },
  {
   "cell_type": "code",
   "execution_count": null,
   "id": "3b852de0",
   "metadata": {},
   "outputs": [],
   "source": [
    "# Uncomment and use if you have a label file\n",
    "# labels = pd.read_csv('your_labels.csv', index_col=0).squeeze()\n",
    "# df['Label'] = labels"
   ]
  },
  {
   "cell_type": "markdown",
   "id": "622602c6",
   "metadata": {},
   "source": [
    "### 💾 Optional: Save Transformed Data"
   ]
  },
  {
   "cell_type": "code",
   "execution_count": null,
   "id": "cbfcab8a",
   "metadata": {},
   "outputs": [],
   "source": [
    "# Save the result of Autoencoder transformation\n",
    "# autoencoder_df.to_csv('autoencoder_result.csv')"
   ]
  },
  {
   "cell_type": "markdown",
   "id": "dc4a16d2",
   "metadata": {},
   "source": [
    "### 🌐 Optional: 3D Visualization"
   ]
  },
  {
   "cell_type": "code",
   "execution_count": null,
   "id": "ddd5ea35",
   "metadata": {},
   "outputs": [],
   "source": [
    "# Import the 3D plotting toolkit from Matplotlib\n",
    "from mpl_toolkits.mplot3d import Axes3D\n",
    "\n",
    "# Create a new figure with specified dimensions\n",
    "fig = plt.figure(figsize=(10, 7))\n",
    "\n",
    "# Add a 3D subplot to the figure for 3D visualization\n",
    "ax = fig.add_subplot(111, projection='3d')\n",
    "\n",
    "### extra for 3D visualization\n",
    "# Uncomment and modify if you have 3D data\n",
    "# ax.scatter(embedded_df['X'], embedded_df['Y'], embedded_df['Z'], c=labels, cmap='viridis')\n",
    "# ax.set_title('3D Visualization')\n",
    "# plt.show()"
   ]
  },
  {
   "cell_type": "markdown",
   "id": "b78701e7",
   "metadata": {},
   "source": [
    "### 🎛️ Optional: Interactive Parameters (Requires ipywidgets)"
   ]
  },
  {
   "cell_type": "code",
   "execution_count": null,
   "id": "538288e0",
   "metadata": {},
   "outputs": [],
   "source": [
    "# Import the interact function from ipywidgets for creating interactive widgets\n",
    "from ipywidgets import interact\n",
    "\n",
    "# Define a function 'update' that takes 'n_components' as an argument (default is 2)\n",
    "def update(n_components=2):\n",
    "    # Create a PCA model with the specified number of components\n",
    "    model = PCA(n_components=n_components)\n",
    "    \n",
    "    # Fit the PCA model to the scaled data and transform it to reduce dimensions\n",
    "    result = model.fit_transform(scaled_data)\n",
    "    \n",
    "    # Create a DataFrame from the PCA result with column names based on the number of components\n",
    "    df_plot = pd.DataFrame(result, columns=['Component {}'.format(i+1) for i in range(n_components)])\n",
    "    \n",
    "    # Create a new figure with specified dimensions\n",
    "    plt.figure(figsize=(8, 6))\n",
    "    \n",
    "    # Create a scatter plot using the first two components of the PCA result\n",
    "    sns.scatterplot(x=df_plot.iloc[:, 0], y=df_plot.iloc[:, 1])\n",
    "    \n",
    "    # Set the title of the plot\n",
    "    plt.title('Autoencoder Interactive')\n",
    "    \n",
    "    # Label the x-axis as 'Component 1'\n",
    "    plt.xlabel('Component 1')\n",
    "    \n",
    "    # Label the y-axis as 'Component 2'\n",
    "    plt.ylabel('Component 2')\n",
    "    \n",
    "    # Add a grid to the plot for better readability\n",
    "    plt.grid(True)\n",
    "    \n",
    "    # Display the plot\n",
    "    plt.show()\n",
    "\n",
    "# Create an interactive widget to update the plot based on the number of components (range: 2 to 10)\n",
    "interact(update, n_components=(2, 10))"
   ]
  }
 ],
 "metadata": {
  "language_info": {
   "name": "python"
  }
 },
 "nbformat": 4,
 "nbformat_minor": 5
}
