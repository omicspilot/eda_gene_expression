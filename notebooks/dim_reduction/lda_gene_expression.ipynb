{
 "cells": [
  {
   "cell_type": "markdown",
   "id": "39875663",
   "metadata": {},
   "source": [
    "# 📘 Linear Discriminant Analysis (LDA)\n",
    "\n",
    "Use LDA for dimensionality reduction with supervision, requiring known class labels to maximize class separability."
   ]
  },
  {
   "cell_type": "markdown",
   "id": "c107ad53",
   "metadata": {},
   "source": [
    "### 🔧 Step 1: Import Required Libraries"
   ]
  },
  {
   "cell_type": "code",
   "execution_count": null,
   "id": "9a1aeaa6",
   "metadata": {},
   "outputs": [],
   "source": [
    "import pandas as pd\n",
    "import matplotlib.pyplot as plt\n",
    "from sklearn.discriminant_analysis import LinearDiscriminantAnalysis\n",
    "from sklearn.preprocessing import StandardScaler\n",
    "import seaborn as sns"
   ]
  },
  {
   "cell_type": "markdown",
   "id": "5fafa987",
   "metadata": {},
   "source": [
    "### 📂 Step 2: Load Dataset and Class Labels"
   ]
  },
  {
   "cell_type": "code",
   "execution_count": null,
   "id": "f09afd0f",
   "metadata": {},
   "outputs": [],
   "source": [
    "# Load the gene expression data from a CSV file, using the first column as the index\n",
    "df = pd.read_csv('your_expression_data.csv', index_col=0)\n",
    "\n",
    "# Load the sample labels from a CSV file, assuming it contains one column with labels, and convert it to a Series\n",
    "labels = pd.read_csv('your_labels.csv', index_col=0).squeeze()"
   ]
  },
  {
   "cell_type": "markdown",
   "id": "471ec516",
   "metadata": {},
   "source": [
    "### ⚖️ Step 3: Standardize the Data"
   ]
  },
  {
   "cell_type": "code",
   "execution_count": null,
   "id": "faa8bc0c",
   "metadata": {},
   "outputs": [],
   "source": [
    "# Initialize the StandardScaler to standardize features by removing the mean and scaling to unit variance\n",
    "scaler = StandardScaler()\n",
    "\n",
    "# Fit the scaler to the data and transform it to produce standardized data\n",
    "scaled_data = scaler.fit_transform(df)"
   ]
  },
  {
   "cell_type": "markdown",
   "id": "4955455c",
   "metadata": {},
   "source": [
    "### 📉 Step 4: Apply LDA"
   ]
  },
  {
   "cell_type": "code",
   "execution_count": null,
   "id": "2bb1ddfc",
   "metadata": {},
   "outputs": [],
   "source": [
    "# Initialize the Linear Discriminant Analysis (LDA) model with 2 components\n",
    "lda = LinearDiscriminantAnalysis(n_components=2)\n",
    "\n",
    "# Fit the LDA model to the standardized data and labels, and transform the data\n",
    "lda_result = lda.fit_transform(scaled_data, labels)\n",
    "\n",
    "# Create a DataFrame to store the LDA results with column names 'LD1' and 'LD2'\n",
    "lda_df = pd.DataFrame(lda_result, columns=['LD1', 'LD2'])\n",
    "\n",
    "# Add the labels as a new column in the DataFrame for visualization purposes\n",
    "lda_df['Label'] = labels.values"
   ]
  },
  {
   "cell_type": "markdown",
   "id": "04a9b435",
   "metadata": {},
   "source": [
    "### 📊 Step 5: Visualize the LDA Results"
   ]
  },
  {
   "cell_type": "code",
   "execution_count": null,
   "id": "88fe7568",
   "metadata": {},
   "outputs": [],
   "source": [
    "# Set the figure size for the plot\n",
    "plt.figure(figsize=(8,6))\n",
    "\n",
    "# Create a scatter plot using seaborn, with 'LD1' and 'LD2' as axes and color points by 'Label'\n",
    "sns.scatterplot(data=lda_df, x='LD1', y='LD2', hue='Label', palette='Set2')\n",
    "\n",
    "# Set the title of the plot\n",
    "plt.title('LDA of Gene Expression Data')\n",
    "\n",
    "# Label the x-axis\n",
    "plt.xlabel('Linear Discriminant 1')\n",
    "\n",
    "# Label the y-axis\n",
    "plt.ylabel('Linear Discriminant 2')\n",
    "\n",
    "# Add a grid to the plot for better readability\n",
    "plt.grid(True)\n",
    "\n",
    "# Add a legend to the plot\n",
    "plt.legend()\n",
    "\n",
    "# Display the plot\n",
    "plt.show()"
   ]
  },
  {
   "cell_type": "markdown",
   "id": "7ac67553",
   "metadata": {},
   "source": [
    "### 🏷️ Optional: Load Labels for Coloring"
   ]
  },
  {
   "cell_type": "code",
   "execution_count": null,
   "id": "78b1c33f",
   "metadata": {},
   "outputs": [],
   "source": [
    "# Uncomment and use if you have a label file\n",
    "# labels = pd.read_csv('your_labels.csv', index_col=0).squeeze()\n",
    "# df['Label'] = labels"
   ]
  },
  {
   "cell_type": "markdown",
   "id": "acc874d5",
   "metadata": {},
   "source": [
    "### 💾 Optional: Save Transformed Data"
   ]
  },
  {
   "cell_type": "code",
   "execution_count": null,
   "id": "fb949420",
   "metadata": {},
   "outputs": [],
   "source": [
    "# Save the result of Linear Discriminant Analysis (LDA) transformation\n",
    "# linear discriminant analysis (lda)_df.to_csv('linear discriminant analysis (lda)_result.csv')"
   ]
  },
  {
   "cell_type": "markdown",
   "id": "95aba4f4",
   "metadata": {},
   "source": [
    "### 🌐 Optional: 3D Visualization"
   ]
  },
  {
   "cell_type": "code",
   "execution_count": null,
   "id": "1c571b25",
   "metadata": {},
   "outputs": [],
   "source": [
    "# Import the 3D plotting toolkit from Matplotlib\n",
    "from mpl_toolkits.mplot3d import Axes3D\n",
    "\n",
    "# Create a new figure with a specified size\n",
    "fig = plt.figure(figsize=(10, 7))\n",
    "\n",
    "# Add a 3D subplot to the figure for 3D visualization\n",
    "ax = fig.add_subplot(111, projection='3d')\n",
    "\n",
    "\n",
    "# Uncomment and modify if you have 3D data\n",
    "# ax.scatter(embedded_df['X'], embedded_df['Y'], embedded_df['Z'], c=labels, cmap='viridis')\n",
    "# ax.set_title('3D Visualization')\n",
    "# plt.show()"
   ]
  },
  {
   "cell_type": "markdown",
   "id": "8e03d61e",
   "metadata": {},
   "source": [
    "### 🎛️ Optional: Interactive Parameters (Requires ipywidgets)"
   ]
  },
  {
   "cell_type": "code",
   "execution_count": null,
   "id": "24632848",
   "metadata": {},
   "outputs": [],
   "source": [
    "# Import the `interact` function from the ipywidgets library for creating interactive widgets\n",
    "from ipywidgets import interact\n",
    "\n",
    "# Define a function `update` that takes `n_components` as an argument (default is 2)\n",
    "def update(n_components=2):\n",
    "    # Initialize a PCA model with the specified number of components\n",
    "    model = PCA(n_components=n_components)\n",
    "    \n",
    "    # Fit the PCA model to the scaled data and transform it to reduce dimensions\n",
    "    result = model.fit_transform(scaled_data)\n",
    "    \n",
    "    # Create a DataFrame to store the PCA results with column names based on the number of components\n",
    "    df_plot = pd.DataFrame(result, columns=['Component {}'.format(i+1) for i in range(n_components)])\n",
    "    \n",
    "    # Set the figure size for the plot\n",
    "    plt.figure(figsize=(8, 6))\n",
    "    \n",
    "    # Create a scatter plot using seaborn, plotting the first two components\n",
    "    sns.scatterplot(x=df_plot.iloc[:, 0], y=df_plot.iloc[:, 1])\n",
    "    \n",
    "    # Set the title of the plot\n",
    "    plt.title('Linear Discriminant Analysis (LDA) Interactive')\n",
    "    \n",
    "    # Label the x-axis\n",
    "    plt.xlabel('Component 1')\n",
    "    \n",
    "    # Label the y-axis\n",
    "    plt.ylabel('Component 2')\n",
    "    \n",
    "    # Add a grid to the plot for better readability\n",
    "    plt.grid(True)\n",
    "    \n",
    "    # Display the plot\n",
    "    plt.show()\n",
    "\n",
    "# Create an interactive widget to adjust `n_components` between 2 and 10 and call the `update` function\n",
    "interact(update, n_components=(2, 10))"
   ]
  }
 ],
 "metadata": {
  "language_info": {
   "name": "python"
  }
 },
 "nbformat": 4,
 "nbformat_minor": 5
}
