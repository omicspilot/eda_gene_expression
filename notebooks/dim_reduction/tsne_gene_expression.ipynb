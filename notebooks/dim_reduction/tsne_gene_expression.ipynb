{
 "cells": [
  {
   "cell_type": "markdown",
   "id": "11b5b897",
   "metadata": {},
   "source": [
    "# 📘 t-Distributed Stochastic Neighbor Embedding (t-SNE)\n",
    "\n",
    "Use t-SNE for non-linear dimensionality reduction and visual exploration of sample relationships in gene expression data."
   ]
  },
  {
   "cell_type": "markdown",
   "id": "9c75c4a0",
   "metadata": {},
   "source": [
    "### 🔧 Step 1: Import Required Libraries"
   ]
  },
  {
   "cell_type": "code",
   "execution_count": null,
   "id": "996226c8",
   "metadata": {},
   "outputs": [],
   "source": [
    "import pandas as pd\n",
    "import matplotlib.pyplot as plt\n",
    "from sklearn.manifold import TSNE\n",
    "from sklearn.preprocessing import StandardScaler\n",
    "import seaborn as sns"
   ]
  },
  {
   "cell_type": "markdown",
   "id": "5368c300",
   "metadata": {},
   "source": [
    "### 📂 Step 2: Load and Standardize the Dataset"
   ]
  },
  {
   "cell_type": "code",
   "execution_count": null,
   "id": "8631cd77",
   "metadata": {},
   "outputs": [],
   "source": [
    "# Load the gene expression data from a CSV file, using the first column as the index\n",
    "df = pd.read_csv('your_expression_data.csv', index_col=0)\n",
    "\n",
    "# Initialize a StandardScaler to standardize the dataset (mean=0, variance=1)\n",
    "scaler = StandardScaler()\n",
    "\n",
    "# Apply the scaler to the dataset to transform it into a standardized form\n",
    "scaled_data = scaler.fit_transform(df)"
   ]
  },
  {
   "cell_type": "markdown",
   "id": "1e94d5e6",
   "metadata": {},
   "source": [
    "### 📉 Step 3: Apply t-SNE"
   ]
  },
  {
   "cell_type": "code",
   "execution_count": null,
   "id": "2a00c480",
   "metadata": {},
   "outputs": [],
   "source": [
    "# Initialize the t-SNE model with 2 components, a perplexity of 30, 1000 iterations, and a fixed random state for reproducibility\n",
    "tsne = TSNE(n_components=2, perplexity=30, n_iter=1000, random_state=42)\n",
    "\n",
    "# Fit the t-SNE model to the scaled data and transform it into a 2D representation\n",
    "tsne_result = tsne.fit_transform(scaled_data)\n",
    "\n",
    "# Create a DataFrame to store the t-SNE results with column names 'Dim1' and 'Dim2'\n",
    "tsne_df = pd.DataFrame(tsne_result, columns=['Dim1', 'Dim2'])\n",
    "\n",
    "# Set the index of the t-SNE DataFrame to match the original dataset's index\n",
    "tsne_df.index = df.index"
   ]
  },
  {
   "cell_type": "markdown",
   "id": "a4b17856",
   "metadata": {},
   "source": [
    "### 📊 Step 4: Visualize the t-SNE Results"
   ]
  },
  {
   "cell_type": "code",
   "execution_count": null,
   "id": "3d38bb3c",
   "metadata": {},
   "outputs": [],
   "source": [
    "# Set the figure size for the plot\n",
    "plt.figure(figsize=(8,6))\n",
    "\n",
    "# Create a scatter plot using seaborn with 'Dim1' on the x-axis and 'Dim2' on the y-axis\n",
    "sns.scatterplot(data=tsne_df, x='Dim1', y='Dim2')\n",
    "\n",
    "# Set the title of the plot\n",
    "plt.title('t-SNE of Gene Expression Data')\n",
    "\n",
    "# Label the x-axis\n",
    "plt.xlabel('Dimension 1')\n",
    "\n",
    "# Label the y-axis\n",
    "plt.ylabel('Dimension 2')\n",
    "\n",
    "# Add a grid to the plot for better readability\n",
    "plt.grid(True)\n",
    "\n",
    "# Display the plot\n",
    "plt.show()"
   ]
  },
  {
   "cell_type": "markdown",
   "id": "e8e4d215",
   "metadata": {},
   "source": [
    "### 🏷️ Optional: Load Labels for Coloring"
   ]
  },
  {
   "cell_type": "code",
   "execution_count": null,
   "id": "bcbfcd79",
   "metadata": {},
   "outputs": [],
   "source": [
    "# Uncomment and use if you have a label file\n",
    "# labels = pd.read_csv('your_labels.csv', index_col=0).squeeze()\n",
    "# df['Label'] = labels"
   ]
  },
  {
   "cell_type": "markdown",
   "id": "a92bebc0",
   "metadata": {},
   "source": [
    "### 💾 Optional: Save Transformed Data"
   ]
  },
  {
   "cell_type": "code",
   "execution_count": null,
   "id": "9956d135",
   "metadata": {},
   "outputs": [],
   "source": [
    "# Save the result of t-Distributed Stochastic Neighbor Embedding (t-SNE) transformation\n",
    "# t-distributed stochastic neighbor embedding (t-sne)_df.to_csv('t-distributed stochastic neighbor embedding (t-sne)_result.csv')"
   ]
  },
  {
   "cell_type": "markdown",
   "id": "f9dbc02f",
   "metadata": {},
   "source": [
    "### 🌐 Optional: 3D Visualization"
   ]
  },
  {
   "cell_type": "code",
   "execution_count": null,
   "id": "6cc88313",
   "metadata": {},
   "outputs": [],
   "source": [
    "# Import the 3D plotting toolkit from Matplotlib\n",
    "from mpl_toolkits.mplot3d import Axes3D\n",
    "\n",
    "# Create a new figure with a specified size\n",
    "fig = plt.figure(figsize=(10, 7))\n",
    "\n",
    "# Add a 3D subplot to the figure for 3D visualization\n",
    "ax = fig.add_subplot(111, projection='3d')\n",
    "\n",
    "\n",
    "# Uncomment and modify if you have 3D data\n",
    "# ax.scatter(embedded_df['X'], embedded_df['Y'], embedded_df['Z'], c=labels, cmap='viridis')\n",
    "# ax.set_title('3D Visualization')\n",
    "# plt.show()"
   ]
  },
  {
   "cell_type": "markdown",
   "id": "05b56a4a",
   "metadata": {},
   "source": [
    "### 🎛️ Optional: Interactive Parameters (Requires ipywidgets)"
   ]
  },
  {
   "cell_type": "code",
   "execution_count": null,
   "id": "2a1d6219",
   "metadata": {},
   "outputs": [],
   "source": [
    "# Import the interact function from ipywidgets for creating interactive widgets\n",
    "from ipywidgets import interact\n",
    "\n",
    "# Define a function that updates the plot based on the number of components\n",
    "def update(n_components=2):\n",
    "    # Initialize a PCA model with the specified number of components\n",
    "    model = PCA(n_components=n_components)\n",
    "    \n",
    "    # Fit the PCA model to the scaled data and transform it into the specified number of components\n",
    "    result = model.fit_transform(scaled_data)\n",
    "    \n",
    "    # Create a DataFrame to store the PCA results with appropriate column names\n",
    "    df_plot = pd.DataFrame(result, columns=['Component {}'.format(i+1) for i in range(n_components)])\n",
    "    \n",
    "    # Set the figure size for the plot\n",
    "    plt.figure(figsize=(8, 6))\n",
    "    \n",
    "    # Create a scatter plot using seaborn with the first two components\n",
    "    sns.scatterplot(x=df_plot.iloc[:, 0], y=df_plot.iloc[:, 1])\n",
    "    \n",
    "    # Set the title of the plot\n",
    "    plt.title('t-Distributed Stochastic Neighbor Embedding (t-SNE) Interactive')\n",
    "    \n",
    "    # Label the x-axis\n",
    "    plt.xlabel('Component 1')\n",
    "    \n",
    "    # Label the y-axis\n",
    "    plt.ylabel('Component 2')\n",
    "    \n",
    "    # Add a grid to the plot for better readability\n",
    "    plt.grid(True)\n",
    "    \n",
    "    # Display the plot\n",
    "    plt.show()\n",
    "\n",
    "# Create an interactive widget to adjust the number of components between 2 and 10\n",
    "interact(update, n_components=(2, 10))"
   ]
  }
 ],
 "metadata": {
  "language_info": {
   "name": "python"
  }
 },
 "nbformat": 4,
 "nbformat_minor": 5
}
