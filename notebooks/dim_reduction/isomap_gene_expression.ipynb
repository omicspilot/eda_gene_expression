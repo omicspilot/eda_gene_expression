{
 "cells": [
  {
   "cell_type": "markdown",
   "id": "00eb4b92",
   "metadata": {},
   "source": [
    "# 📘 Isomap\n",
    "\n",
    "Use Isomap to preserve global structure in the data while reducing dimensionality. Great for visualizing manifold structure in gene expression data."
   ]
  },
  {
   "cell_type": "markdown",
   "id": "c5358750",
   "metadata": {},
   "source": [
    "### 🔧 Step 1: Import Required Libraries"
   ]
  },
  {
   "cell_type": "code",
   "execution_count": null,
   "id": "8523de7e",
   "metadata": {},
   "outputs": [],
   "source": [
    "import pandas as pd\n",
    "import matplotlib.pyplot as plt\n",
    "from sklearn.manifold import Isomap\n",
    "from sklearn.preprocessing import StandardScaler\n",
    "import seaborn as sns"
   ]
  },
  {
   "cell_type": "markdown",
   "id": "6bf07e2e",
   "metadata": {},
   "source": [
    "### 📂 Step 2: Load and Standardize the Dataset"
   ]
  },
  {
   "cell_type": "code",
   "execution_count": null,
   "id": "8a5d0d54",
   "metadata": {},
   "outputs": [],
   "source": [
    "# Load the gene expression dataset from a CSV file, using the first column as the index\n",
    "df = pd.read_csv('your_expression_data.csv', index_col=0)\n",
    "\n",
    "# Initialize a StandardScaler to standardize the dataset (mean=0, variance=1)\n",
    "scaler = StandardScaler()\n",
    "\n",
    "# Apply the scaler to the dataset and transform it into a standardized format\n",
    "scaled_data = scaler.fit_transform(df)"
   ]
  },
  {
   "cell_type": "markdown",
   "id": "5fdc06b9",
   "metadata": {},
   "source": [
    "### 📉 Step 3: Apply Isomap"
   ]
  },
  {
   "cell_type": "code",
   "execution_count": null,
   "id": "9014e477",
   "metadata": {},
   "outputs": [],
   "source": [
    "# Initialize the Isomap model with 2 components\n",
    "isomap = Isomap(n_components=2)\n",
    "\n",
    "# Apply the Isomap model to the standardized data and transform it\n",
    "isomap_result = isomap.fit_transform(scaled_data)\n",
    "\n",
    "# Create a DataFrame to store the Isomap-transformed data with column names 'Iso1' and 'Iso2'\n",
    "isomap_df = pd.DataFrame(isomap_result, columns=['Iso1', 'Iso2'])"
   ]
  },
  {
   "cell_type": "markdown",
   "id": "ca24f38a",
   "metadata": {},
   "source": [
    "### 📊 Step 4: Visualize Isomap Components"
   ]
  },
  {
   "cell_type": "code",
   "execution_count": null,
   "id": "d6066f12",
   "metadata": {},
   "outputs": [],
   "source": [
    "# Set the figure size for the plot\n",
    "plt.figure(figsize=(8,6))\n",
    "\n",
    "# Create a scatter plot using seaborn with 'Iso1' on the x-axis and 'Iso2' on the y-axis\n",
    "sns.scatterplot(data=isomap_df, x='Iso1', y='Iso2')\n",
    "\n",
    "# Set the title of the plot\n",
    "plt.title('Isomap of Gene Expression Data')\n",
    "\n",
    "# Label the x-axis as 'Iso1'\n",
    "plt.xlabel('Iso1')\n",
    "\n",
    "# Label the y-axis as 'Iso2'\n",
    "plt.ylabel('Iso2')\n",
    "\n",
    "# Add a grid to the plot for better readability\n",
    "plt.grid(True)\n",
    "\n",
    "# Display the plot\n",
    "plt.show()"
   ]
  },
  {
   "cell_type": "markdown",
   "id": "96ef30d5",
   "metadata": {},
   "source": [
    "### 🏷️ Optional: Load Labels for Coloring"
   ]
  },
  {
   "cell_type": "code",
   "execution_count": null,
   "id": "ed0825c8",
   "metadata": {},
   "outputs": [],
   "source": [
    "# Uncomment and use if you have a label file\n",
    "# labels = pd.read_csv('your_labels.csv', index_col=0).squeeze()\n",
    "# df['Label'] = labels"
   ]
  },
  {
   "cell_type": "markdown",
   "id": "3b912b77",
   "metadata": {},
   "source": [
    "### 💾 Optional: Save Transformed Data"
   ]
  },
  {
   "cell_type": "code",
   "execution_count": null,
   "id": "4867aae2",
   "metadata": {},
   "outputs": [],
   "source": [
    "# Save the result of Isomap transformation\n",
    "# isomap_df.to_csv('isomap_result.csv')"
   ]
  },
  {
   "cell_type": "markdown",
   "id": "c7c051cf",
   "metadata": {},
   "source": [
    "### 🌐 Optional: 3D Visualization"
   ]
  },
  {
   "cell_type": "code",
   "execution_count": null,
   "id": "ce835e15",
   "metadata": {},
   "outputs": [],
   "source": [
    "# Import the 3D plotting toolkit from Matplotlib\n",
    "from mpl_toolkits.mplot3d import Axes3D\n",
    "\n",
    "# Create a new figure with a specified size\n",
    "fig = plt.figure(figsize=(10, 7))\n",
    "\n",
    "# Add a 3D subplot to the figure for 3D visualization\n",
    "ax = fig.add_subplot(111, projection='3d')\n",
    "\n",
    "\n",
    "# Uncomment and modify if you have 3D data\n",
    "# ax.scatter(embedded_df['X'], embedded_df['Y'], embedded_df['Z'], c=labels, cmap='viridis')\n",
    "# ax.set_title('3D Visualization')\n",
    "# plt.show()"
   ]
  },
  {
   "cell_type": "markdown",
   "id": "d16c4ed3",
   "metadata": {},
   "source": [
    "### 🎛️ Optional: Interactive Parameters (Requires ipywidgets)"
   ]
  },
  {
   "cell_type": "code",
   "execution_count": null,
   "id": "c0091af1",
   "metadata": {},
   "outputs": [],
   "source": [
    "from ipywidgets import interact  # Import the interact function from ipywidgets for creating interactive widgets\n",
    "\n",
    "def update(n_components=2):  # Define a function that updates the plot based on the number of components\n",
    "    model = PCA(n_components=n_components)  # Initialize a PCA model with the specified number of components\n",
    "    result = model.fit_transform(scaled_data)  # Apply PCA to the standardized data and get the transformed result\n",
    "    df_plot = pd.DataFrame(result, columns=['Component {}'.format(i+1) for i in range(n_components)])  # Create a DataFrame for the PCA result with appropriate column names\n",
    "    plt.figure(figsize=(8, 6))  # Set the figure size for the plot\n",
    "    sns.scatterplot(x=df_plot.iloc[:, 0], y=df_plot.iloc[:, 1])  # Create a scatter plot using the first two components\n",
    "    plt.title('Isomap Interactive')  # Set the title of the plot\n",
    "    plt.xlabel('Component 1')  # Label the x-axis as 'Component 1'\n",
    "    plt.ylabel('Component 2')  # Label the y-axis as 'Component 2'\n",
    "    plt.grid(True)  # Add a grid to the plot for better readability\n",
    "    plt.show()  # Display the plot\n",
    "\n",
    "interact(update, n_components=(2, 10))  # Create an interactive widget to adjust the number of components between 2 and 10"
   ]
  }
 ],
 "metadata": {
  "language_info": {
   "name": "python"
  }
 },
 "nbformat": 4,
 "nbformat_minor": 5
}
