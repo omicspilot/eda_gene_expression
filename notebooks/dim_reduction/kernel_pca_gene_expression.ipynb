{
 "cells": [
  {
   "cell_type": "markdown",
   "id": "8c4a2bd6",
   "metadata": {},
   "source": [
    "# 📘 Kernel PCA\n",
    "\n",
    "Apply Kernel PCA with an RBF kernel to capture non-linear relationships in gene expression data."
   ]
  },
  {
   "cell_type": "markdown",
   "id": "702d785c",
   "metadata": {},
   "source": [
    "### 🔧 Step 1: Import Required Libraries"
   ]
  },
  {
   "cell_type": "code",
   "execution_count": null,
   "id": "98a00c08",
   "metadata": {},
   "outputs": [],
   "source": [
    "import pandas as pd\n",
    "import matplotlib.pyplot as plt\n",
    "from sklearn.decomposition import KernelPCA\n",
    "from sklearn.preprocessing import StandardScaler\n",
    "import seaborn as sns"
   ]
  },
  {
   "cell_type": "markdown",
   "id": "d6e3559e",
   "metadata": {},
   "source": [
    "### 📂 Step 2: Load and Standardize the Dataset"
   ]
  },
  {
   "cell_type": "code",
   "execution_count": null,
   "id": "b08a0801",
   "metadata": {},
   "outputs": [],
   "source": [
    "# Load the gene expression dataset from a CSV file, using the first column as the index.\n",
    "df = pd.read_csv('your_expression_data.csv', index_col=0)\n",
    "\n",
    "# Initialize a StandardScaler object to standardize the dataset (mean=0, std=1).\n",
    "scaler = StandardScaler()\n",
    "\n",
    "# Apply the scaler to the dataset to standardize the features.\n",
    "scaled_data = scaler.fit_transform(df)"
   ]
  },
  {
   "cell_type": "markdown",
   "id": "a81bce11",
   "metadata": {},
   "source": [
    "### 📉 Step 3: Apply Kernel PCA"
   ]
  },
  {
   "cell_type": "code",
   "execution_count": null,
   "id": "0dd4c78d",
   "metadata": {},
   "outputs": [],
   "source": [
    "# Initialize Kernel PCA with 2 components, using an RBF kernel and a gamma value of 0.01.\n",
    "kpca = KernelPCA(n_components=2, kernel='rbf', gamma=0.01)\n",
    "\n",
    "# Apply Kernel PCA to the standardized data and obtain the transformed result.\n",
    "kpca_result = kpca.fit_transform(scaled_data)\n",
    "\n",
    "# Create a DataFrame to store the Kernel PCA components with appropriate column names.\n",
    "kpca_df = pd.DataFrame(kpca_result, columns=['KPCA1', 'KPCA2'])"
   ]
  },
  {
   "cell_type": "markdown",
   "id": "85014dc1",
   "metadata": {},
   "source": [
    "### 📊 Step 4: Visualize Kernel PCA Components"
   ]
  },
  {
   "cell_type": "code",
   "execution_count": null,
   "id": "6aab5e53",
   "metadata": {},
   "outputs": [],
   "source": [
    "# Set the figure size for the plot.\n",
    "plt.figure(figsize=(8,6))\n",
    "\n",
    "# Create a scatter plot of the Kernel PCA components using seaborn.\n",
    "sns.scatterplot(data=kpca_df, x='KPCA1', y='KPCA2')\n",
    "\n",
    "# Set the title of the plot.\n",
    "plt.title('Kernel PCA of Gene Expression Data')\n",
    "\n",
    "# Label the x-axis as 'KPCA1'.\n",
    "plt.xlabel('KPCA1')\n",
    "\n",
    "# Label the y-axis as 'KPCA2'.\n",
    "plt.ylabel('KPCA2')\n",
    "\n",
    "# Add a grid to the plot for better readability.\n",
    "plt.grid(True)\n",
    "\n",
    "# Display the plot.\n",
    "plt.show()"
   ]
  },
  {
   "cell_type": "markdown",
   "id": "40bdf011",
   "metadata": {},
   "source": [
    "### 🏷️ Optional: Load Labels for Coloring"
   ]
  },
  {
   "cell_type": "code",
   "execution_count": null,
   "id": "d746b902",
   "metadata": {},
   "outputs": [],
   "source": [
    "# Uncomment and use if you have a label file\n",
    "# labels = pd.read_csv('your_labels.csv', index_col=0).squeeze()\n",
    "# df['Label'] = labels"
   ]
  },
  {
   "cell_type": "markdown",
   "id": "1ffaba82",
   "metadata": {},
   "source": [
    "### 💾 Optional: Save Transformed Data"
   ]
  },
  {
   "cell_type": "code",
   "execution_count": null,
   "id": "44e7be33",
   "metadata": {},
   "outputs": [],
   "source": [
    "# Save the result of Kernel PCA transformation\n",
    "# kernel pca_df.to_csv('kernel pca_result.csv')"
   ]
  },
  {
   "cell_type": "markdown",
   "id": "43e33b35",
   "metadata": {},
   "source": [
    "### 🌐 Optional: 3D Visualization"
   ]
  },
  {
   "cell_type": "code",
   "execution_count": null,
   "id": "5c93fd3e",
   "metadata": {},
   "outputs": [],
   "source": [
    "# Import the 3D plotting toolkit from Matplotlib.\n",
    "from mpl_toolkits.mplot3d import Axes3D\n",
    "\n",
    "# Create a new figure with a specified size for the 3D plot.\n",
    "fig = plt.figure(figsize=(10, 7))\n",
    "\n",
    "# Add a 3D subplot to the figure for visualization.\n",
    "ax = fig.add_subplot(111, projection='3d')\n",
    "\n",
    "\n",
    "# Uncomment and modify if you have 3D data\n",
    "# ax.scatter(embedded_df['X'], embedded_df['Y'], embedded_df['Z'], c=labels, cmap='viridis')\n",
    "# ax.set_title('3D Visualization')\n",
    "# plt.show()"
   ]
  },
  {
   "cell_type": "markdown",
   "id": "34fc79ee",
   "metadata": {},
   "source": [
    "### 🎛️ Optional: Interactive Parameters (Requires ipywidgets)"
   ]
  },
  {
   "cell_type": "code",
   "execution_count": null,
   "id": "969738e6",
   "metadata": {},
   "outputs": [],
   "source": [
    "# Import the interact function from ipywidgets for creating interactive widgets.\n",
    "from ipywidgets import interact\n",
    "\n",
    "# Define a function `update` that takes the number of components as an argument (default is 2).\n",
    "def update(n_components=2):\n",
    "    # Initialize a PCA model with the specified number of components.\n",
    "    model = PCA(n_components=n_components)\n",
    "    \n",
    "    # Apply PCA to the standardized data and obtain the transformed result.\n",
    "    result = model.fit_transform(scaled_data)\n",
    "    \n",
    "    # Create a DataFrame to store the PCA components with appropriate column names.\n",
    "    df_plot = pd.DataFrame(result, columns=['Component {}'.format(i+1) for i in range(n_components)])\n",
    "    \n",
    "    # Set the figure size for the plot.\n",
    "    plt.figure(figsize=(8, 6))\n",
    "    \n",
    "    # Create a scatter plot of the first two PCA components using seaborn.\n",
    "    sns.scatterplot(x=df_plot.iloc[:, 0], y=df_plot.iloc[:, 1])\n",
    "    \n",
    "    # Set the title of the plot.\n",
    "    plt.title('Kernel PCA Interactive')\n",
    "    \n",
    "    # Label the x-axis as 'Component 1'.\n",
    "    plt.xlabel('Component 1')\n",
    "    \n",
    "    # Label the y-axis as 'Component 2'.\n",
    "    plt.ylabel('Component 2')\n",
    "    \n",
    "    # Add a grid to the plot for better readability.\n",
    "    plt.grid(True)\n",
    "    \n",
    "    # Display the plot.\n",
    "    plt.show()\n",
    "\n",
    "# Create an interactive widget to adjust the number of components for PCA.\n",
    "# The slider allows selecting values between 2 and 10 for `n_components`.\n",
    "interact(update, n_components=(2, 10))"
   ]
  }
 ],
 "metadata": {
  "language_info": {
   "name": "python"
  }
 },
 "nbformat": 4,
 "nbformat_minor": 5
}
