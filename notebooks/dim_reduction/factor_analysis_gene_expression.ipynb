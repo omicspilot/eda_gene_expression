{
 "cells": [
  {
   "cell_type": "markdown",
   "id": "03898a34",
   "metadata": {},
   "source": [
    "# 📘 Factor Analysis\n",
    "\n",
    "Use Factor Analysis to identify latent variables influencing gene expression patterns. Useful when data is noisy and high-dimensional."
   ]
  },
  {
   "cell_type": "markdown",
   "id": "a2958500",
   "metadata": {},
   "source": [
    "### 🔧 Step 1: Import Required Libraries"
   ]
  },
  {
   "cell_type": "code",
   "execution_count": null,
   "id": "6c6c6fa0",
   "metadata": {},
   "outputs": [],
   "source": [
    "import pandas as pd\n",
    "import matplotlib.pyplot as plt\n",
    "from sklearn.decomposition import FactorAnalysis\n",
    "from sklearn.preprocessing import StandardScaler\n",
    "import seaborn as sns"
   ]
  },
  {
   "cell_type": "markdown",
   "id": "6d1203fb",
   "metadata": {},
   "source": [
    "### 📂 Step 2: Load and Standardize the Dataset"
   ]
  },
  {
   "cell_type": "code",
   "execution_count": null,
   "id": "8cc2caab",
   "metadata": {},
   "outputs": [],
   "source": [
    "# Load the gene expression dataset from a CSV file, using the first column as the index\n",
    "df = pd.read_csv('your_expression_data.csv', index_col=0)\n",
    "\n",
    "# Initialize a StandardScaler to standardize the dataset (mean=0, variance=1)\n",
    "scaler = StandardScaler()\n",
    "\n",
    "# Apply the scaler to the dataset to transform it into a standardized form\n",
    "scaled_data = scaler.fit_transform(df)"
   ]
  },
  {
   "cell_type": "markdown",
   "id": "4f7a5706",
   "metadata": {},
   "source": [
    "### 📉 Step 3: Apply Factor Analysis"
   ]
  },
  {
   "cell_type": "code",
   "execution_count": null,
   "id": "2d08e125",
   "metadata": {},
   "outputs": [],
   "source": [
    "# Initialize the FactorAnalysis model with 2 components and a fixed random state for reproducibility\n",
    "fa = FactorAnalysis(n_components=2, random_state=42)\n",
    "\n",
    "# Fit the FactorAnalysis model to the standardized data and transform it into the factor space\n",
    "fa_result = fa.fit_transform(scaled_data)\n",
    "\n",
    "# Create a DataFrame from the factor analysis results with columns named 'FA1' and 'FA2'\n",
    "fa_df = pd.DataFrame(fa_result, columns=['FA1', 'FA2'])"
   ]
  },
  {
   "cell_type": "markdown",
   "id": "dff2e232",
   "metadata": {},
   "source": [
    "### 📊 Step 4: Visualize Factor Analysis Output"
   ]
  },
  {
   "cell_type": "code",
   "execution_count": null,
   "id": "bf3e05f4",
   "metadata": {},
   "outputs": [],
   "source": [
    "# Set the figure size for the plot\n",
    "plt.figure(figsize=(8,6))\n",
    "\n",
    "# Create a scatter plot using seaborn with 'FA1' on the x-axis and 'FA2' on the y-axis\n",
    "sns.scatterplot(data=fa_df, x='FA1', y='FA2')\n",
    "\n",
    "# Set the title of the plot\n",
    "plt.title('Factor Analysis of Gene Expression Data')\n",
    "\n",
    "# Label the x-axis as 'Factor 1'\n",
    "plt.xlabel('Factor 1')\n",
    "\n",
    "# Label the y-axis as 'Factor 2'\n",
    "plt.ylabel('Factor 2')\n",
    "\n",
    "# Add a grid to the plot for better readability\n",
    "plt.grid(True)\n",
    "\n",
    "# Display the plot\n",
    "plt.show()"
   ]
  },
  {
   "cell_type": "markdown",
   "id": "b79af18a",
   "metadata": {},
   "source": [
    "### 🏷️ Optional: Load Labels for Coloring"
   ]
  },
  {
   "cell_type": "code",
   "execution_count": null,
   "id": "be4e45d2",
   "metadata": {},
   "outputs": [],
   "source": [
    "# Uncomment and use if you have a label file\n",
    "# labels = pd.read_csv('your_labels.csv', index_col=0).squeeze()\n",
    "# df['Label'] = labels"
   ]
  },
  {
   "cell_type": "markdown",
   "id": "d883ae94",
   "metadata": {},
   "source": [
    "### 💾 Optional: Save Transformed Data"
   ]
  },
  {
   "cell_type": "code",
   "execution_count": null,
   "id": "58495bb2",
   "metadata": {},
   "outputs": [],
   "source": [
    "# Save the result of Factor Analysis transformation\n",
    "# factor analysis_df.to_csv('factor analysis_result.csv')"
   ]
  },
  {
   "cell_type": "markdown",
   "id": "cdfcd7f0",
   "metadata": {},
   "source": [
    "### 🌐 Optional: 3D Visualization"
   ]
  },
  {
   "cell_type": "code",
   "execution_count": null,
   "id": "70583ffe",
   "metadata": {},
   "outputs": [],
   "source": [
    "# Import the 3D plotting toolkit from Matplotlib\n",
    "from mpl_toolkits.mplot3d import Axes3D\n",
    "\n",
    "# Create a new figure with a specified size\n",
    "fig = plt.figure(figsize=(10, 7))\n",
    "\n",
    "# Add a 3D subplot to the figure for 3D visualization\n",
    "ax = fig.add_subplot(111, projection='3d')\n",
    "# Uncomment and modify if you have 3D data\n",
    "# ax.scatter(embedded_df['X'], embedded_df['Y'], embedded_df['Z'], c=labels, cmap='viridis')\n",
    "# ax.set_title('3D Visualization')\n",
    "# plt.show()"
   ]
  },
  {
   "cell_type": "markdown",
   "id": "018dab8d",
   "metadata": {},
   "source": [
    "### 🎛️ Optional: Interactive Parameters (Requires ipywidgets)"
   ]
  },
  {
   "cell_type": "code",
   "execution_count": null,
   "id": "3dc16a6b",
   "metadata": {},
   "outputs": [],
   "source": [
    "from ipywidgets import interact  # Import the interact function from ipywidgets for creating interactive widgets\n",
    "\n",
    "# Define a function `update` that takes `n_components` as an argument (default is 2)\n",
    "def update(n_components=2):\n",
    "    model = PCA(n_components=n_components)  # Initialize a PCA model with the specified number of components\n",
    "    result = model.fit_transform(scaled_data)  # Fit the PCA model to the scaled data and transform it\n",
    "    df_plot = pd.DataFrame(result, columns=['Component {}'.format(i+1) for i in range(n_components)])  # Create a DataFrame for the PCA results with appropriate column names\n",
    "    plt.figure(figsize=(8, 6))  # Set the figure size for the plot\n",
    "    sns.scatterplot(x=df_plot.iloc[:, 0], y=df_plot.iloc[:, 1])  # Create a scatter plot of the first two components\n",
    "    plt.title('Factor Analysis Interactive')  # Set the title of the plot\n",
    "    plt.xlabel('Component 1')  # Label the x-axis as 'Component 1'\n",
    "    plt.ylabel('Component 2')  # Label the y-axis as 'Component 2'\n",
    "    plt.grid(True)  # Add a grid to the plot for better readability\n",
    "    plt.show()  # Display the plot\n",
    "\n",
    "# Create an interactive widget to adjust `n_components` between 2 and 10 and call the `update` function\n",
    "interact(update, n_components=(2, 10))"
   ]
  }
 ],
 "metadata": {
  "language_info": {
   "name": "python"
  }
 },
 "nbformat": 4,
 "nbformat_minor": 5
}
