{
 "cells": [
  {
   "cell_type": "markdown",
   "id": "20e73d6d",
   "metadata": {},
   "source": [
    "# 📘 Uniform Manifold Approximation and Projection (UMAP)\n",
    "\n",
    "Apply UMAP to project high-dimensional gene expression data into 2D space, preserving local and global structure."
   ]
  },
  {
   "cell_type": "markdown",
   "id": "d93a7fe3",
   "metadata": {},
   "source": [
    "### 🔧 Step 1: Import Required Libraries"
   ]
  },
  {
   "cell_type": "code",
   "execution_count": null,
   "id": "52bdb68c",
   "metadata": {},
   "outputs": [],
   "source": [
    "import pandas as pd\n",
    "import matplotlib.pyplot as plt\n",
    "import umap\n",
    "from sklearn.preprocessing import StandardScaler\n",
    "import seaborn as sns"
   ]
  },
  {
   "cell_type": "markdown",
   "id": "eced1c26",
   "metadata": {},
   "source": [
    "### 📂 Step 2: Load and Standardize the Dataset"
   ]
  },
  {
   "cell_type": "code",
   "execution_count": null,
   "id": "550743ac",
   "metadata": {},
   "outputs": [],
   "source": [
    "# Load the gene expression dataset from a CSV file, using the first column as the index\n",
    "df = pd.read_csv('your_expression_data.csv', index_col=0)\n",
    "\n",
    "# Initialize a StandardScaler to standardize the dataset\n",
    "scaler = StandardScaler()\n",
    "\n",
    "# Apply the scaler to the dataset to normalize the features\n",
    "scaled_data = scaler.fit_transform(df)"
   ]
  },
  {
   "cell_type": "markdown",
   "id": "c8740d10",
   "metadata": {},
   "source": [
    "### 📉 Step 3: Apply UMAP"
   ]
  },
  {
   "cell_type": "code",
   "execution_count": null,
   "id": "4fa8eaa2",
   "metadata": {},
   "outputs": [],
   "source": [
    "# Initialize the UMAP reducer with a fixed random state for reproducibility\n",
    "reducer = umap.UMAP(random_state=42)\n",
    "\n",
    "# Apply UMAP to the scaled data to reduce its dimensionality\n",
    "umap_result = reducer.fit_transform(scaled_data)\n",
    "\n",
    "# Create a DataFrame to store the UMAP results with appropriate column names\n",
    "umap_df = pd.DataFrame(umap_result, columns=['UMAP1', 'UMAP2'])\n",
    "\n",
    "# Set the index of the UMAP DataFrame to match the original dataset's index\n",
    "umap_df.index = df.index"
   ]
  },
  {
   "cell_type": "markdown",
   "id": "1926b8e8",
   "metadata": {},
   "source": [
    "### 📊 Step 4: Visualize the UMAP Results"
   ]
  },
  {
   "cell_type": "code",
   "execution_count": null,
   "id": "b518a907",
   "metadata": {},
   "outputs": [],
   "source": [
    "# Set the figure size for the plot\n",
    "plt.figure(figsize=(8,6))\n",
    "\n",
    "# Create a scatter plot using seaborn with UMAP1 and UMAP2 as axes\n",
    "sns.scatterplot(data=umap_df, x='UMAP1', y='UMAP2')\n",
    "\n",
    "# Set the title of the plot\n",
    "plt.title('UMAP of Gene Expression Data')\n",
    "\n",
    "# Label the x-axis\n",
    "plt.xlabel('UMAP1')\n",
    "\n",
    "# Label the y-axis\n",
    "plt.ylabel('UMAP2')\n",
    "\n",
    "# Add a grid to the plot for better readability\n",
    "plt.grid(True)\n",
    "\n",
    "# Display the plot\n",
    "plt.show()"
   ]
  },
  {
   "cell_type": "markdown",
   "id": "01c03f77",
   "metadata": {},
   "source": [
    "### 🏷️ Optional: Load Labels for Coloring"
   ]
  },
  {
   "cell_type": "code",
   "execution_count": null,
   "id": "da28b670",
   "metadata": {},
   "outputs": [],
   "source": [
    "# Uncomment and use if you have a label file\n",
    "# labels = pd.read_csv('your_labels.csv', index_col=0).squeeze()\n",
    "# df['Label'] = labels"
   ]
  },
  {
   "cell_type": "markdown",
   "id": "3d014cfe",
   "metadata": {},
   "source": [
    "### 💾 Optional: Save Transformed Data"
   ]
  },
  {
   "cell_type": "code",
   "execution_count": null,
   "id": "bf407952",
   "metadata": {},
   "outputs": [],
   "source": [
    "# Save the result of Uniform Manifold Approximation and Projection (UMAP) transformation\n",
    "# uniform manifold approximation and projection (umap)_df.to_csv('uniform manifold approximation and projection (umap)_result.csv')"
   ]
  },
  {
   "cell_type": "markdown",
   "id": "18caed77",
   "metadata": {},
   "source": [
    "### 🌐 Optional: 3D Visualization"
   ]
  },
  {
   "cell_type": "code",
   "execution_count": null,
   "id": "a200c308",
   "metadata": {},
   "outputs": [],
   "source": [
    "# Import the 3D plotting toolkit from Matplotlib\n",
    "from mpl_toolkits.mplot3d import Axes3D\n",
    "\n",
    "# Create a new figure with a specified size\n",
    "fig = plt.figure(figsize=(10, 7))\n",
    "\n",
    "# Add a 3D subplot to the figure\n",
    "ax = fig.add_subplot(111, projection='3d')\n",
    "\n",
    "# Uncomment and modify the following lines if you have 3D data to visualize\n",
    "# Create a 3D scatter plot with X, Y, Z coordinates and color by labels\n",
    "# ax.scatter(embedded_df['X'], embedded_df['Y'], embedded_df['Z'], c=labels, cmap='viridis')\n",
    "\n",
    "# Set the title of the 3D plot\n",
    "# ax.set_title('3D Visualization')\n",
    "\n",
    "# Display the 3D plot\n",
    "# plt.show()"
   ]
  },
  {
   "cell_type": "markdown",
   "id": "41fb8a6f",
   "metadata": {},
   "source": [
    "### 🎛️ Optional: Interactive Parameters (Requires ipywidgets)"
   ]
  },
  {
   "cell_type": "code",
   "execution_count": null,
   "id": "0c55c36b",
   "metadata": {},
   "outputs": [],
   "source": [
    "# Import the interact function from ipywidgets for creating interactive widgets\n",
    "from ipywidgets import interact\n",
    "\n",
    "# Define a function to update the plot based on the number of components\n",
    "def update(n_components=2):\n",
    "    # Initialize a PCA model with the specified number of components\n",
    "    model = PCA(n_components=n_components)\n",
    "    \n",
    "    # Fit the PCA model to the scaled data and transform it\n",
    "    result = model.fit_transform(scaled_data)\n",
    "    \n",
    "    # Create a DataFrame to store the PCA results with appropriate column names\n",
    "    df_plot = pd.DataFrame(result, columns=['Component {}'.format(i+1) for i in range(n_components)])\n",
    "    \n",
    "    # Set the figure size for the plot\n",
    "    plt.figure(figsize=(8, 6))\n",
    "    \n",
    "    # Create a scatter plot using seaborn with the first two components as axes\n",
    "    sns.scatterplot(x=df_plot.iloc[:, 0], y=df_plot.iloc[:, 1])\n",
    "    \n",
    "    # Set the title of the plot\n",
    "    plt.title('Uniform Manifold Approximation and Projection (UMAP) Interactive')\n",
    "    \n",
    "    # Label the x-axis\n",
    "    plt.xlabel('Component 1')\n",
    "    \n",
    "    # Label the y-axis\n",
    "    plt.ylabel('Component 2')\n",
    "    \n",
    "    # Add a grid to the plot for better readability\n",
    "    plt.grid(True)\n",
    "    \n",
    "    # Display the plot\n",
    "    plt.show()\n",
    "\n",
    "# Create an interactive widget to adjust the number of components dynamically\n",
    "interact(update, n_components=(2, 10))"
   ]
  }
 ],
 "metadata": {
  "language_info": {
   "name": "python"
  }
 },
 "nbformat": 4,
 "nbformat_minor": 5
}
