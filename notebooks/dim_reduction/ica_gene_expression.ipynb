{
 "cells": [
  {
   "cell_type": "markdown",
   "id": "9c795fc4",
   "metadata": {},
   "source": [
    "# 📘 Independent Component Analysis (ICA)\n",
    "\n",
    "Apply ICA to identify statistically independent signals in gene expression data, which may correspond to independent biological processes or noise components."
   ]
  },
  {
   "cell_type": "markdown",
   "id": "7fc2cc85",
   "metadata": {},
   "source": [
    "### 🔧 Step 1: Import Required Libraries"
   ]
  },
  {
   "cell_type": "code",
   "execution_count": null,
   "id": "40fbab3e",
   "metadata": {},
   "outputs": [],
   "source": [
    "import pandas as pd\n",
    "import matplotlib.pyplot as plt\n",
    "from sklearn.decomposition import FastICA\n",
    "from sklearn.preprocessing import StandardScaler\n",
    "import seaborn as sns"
   ]
  },
  {
   "cell_type": "markdown",
   "id": "5be494b7",
   "metadata": {},
   "source": [
    "### 📂 Step 2: Load and Standardize the Dataset"
   ]
  },
  {
   "cell_type": "code",
   "execution_count": null,
   "id": "bf022a77",
   "metadata": {},
   "outputs": [],
   "source": [
    "# Load the gene expression data from a CSV file, using the first column as the index\n",
    "df = pd.read_csv('your_expression_data.csv', index_col=0)\n",
    "\n",
    "# Initialize a StandardScaler to standardize the dataset (mean=0, variance=1)\n",
    "scaler = StandardScaler()\n",
    "\n",
    "# Apply the scaler to the dataset to transform it into a standardized form\n",
    "scaled_data = scaler.fit_transform(df)"
   ]
  },
  {
   "cell_type": "markdown",
   "id": "1642071f",
   "metadata": {},
   "source": [
    "### 📉 Step 3: Apply ICA"
   ]
  },
  {
   "cell_type": "code",
   "execution_count": null,
   "id": "efbf6842",
   "metadata": {},
   "outputs": [],
   "source": [
    "# Initialize the FastICA model with 2 components and a fixed random state for reproducibility\n",
    "ica = FastICA(n_components=2, random_state=42)\n",
    "\n",
    "# Apply the ICA model to the standardized data and extract the independent components\n",
    "ica_result = ica.fit_transform(scaled_data)\n",
    "\n",
    "# Create a DataFrame to store the independent components with appropriate column names\n",
    "ica_df = pd.DataFrame(ica_result, columns=['IC1', 'IC2'])"
   ]
  },
  {
   "cell_type": "markdown",
   "id": "bf0fd84f",
   "metadata": {},
   "source": [
    "### 📊 Step 4: Visualize ICA Components"
   ]
  },
  {
   "cell_type": "code",
   "execution_count": null,
   "id": "88911c63",
   "metadata": {},
   "outputs": [],
   "source": [
    "# Set the figure size for the plot\n",
    "plt.figure(figsize=(8,6))\n",
    "\n",
    "# Create a scatter plot of the independent components using seaborn\n",
    "sns.scatterplot(data=ica_df, x='IC1', y='IC2')\n",
    "\n",
    "# Set the title of the plot\n",
    "plt.title('ICA of Gene Expression Data')\n",
    "\n",
    "# Label the x-axis\n",
    "plt.xlabel('Independent Component 1')\n",
    "\n",
    "# Label the y-axis\n",
    "plt.ylabel('Independent Component 2')\n",
    "\n",
    "# Add a grid to the plot for better readability\n",
    "plt.grid(True)\n",
    "\n",
    "# Display the plot\n",
    "plt.show()"
   ]
  },
  {
   "cell_type": "markdown",
   "id": "b9b2cda3",
   "metadata": {},
   "source": [
    "### 🏷️ Optional: Load Labels for Coloring"
   ]
  },
  {
   "cell_type": "code",
   "execution_count": null,
   "id": "9e76aa75",
   "metadata": {},
   "outputs": [],
   "source": [
    "# Uncomment and use if you have a label file\n",
    "# labels = pd.read_csv('your_labels.csv', index_col=0).squeeze()\n",
    "# df['Label'] = labels"
   ]
  },
  {
   "cell_type": "markdown",
   "id": "98356abd",
   "metadata": {},
   "source": [
    "### 💾 Optional: Save Transformed Data"
   ]
  },
  {
   "cell_type": "code",
   "execution_count": null,
   "id": "5f3afee2",
   "metadata": {},
   "outputs": [],
   "source": [
    "# Save the result of Independent Component Analysis transformation\n",
    "# independent component analysis_df.to_csv('independent component analysis_result.csv')"
   ]
  },
  {
   "cell_type": "markdown",
   "id": "f065b37e",
   "metadata": {},
   "source": [
    "### 🌐 Optional: 3D Visualization"
   ]
  },
  {
   "cell_type": "code",
   "execution_count": null,
   "id": "f4e8d55d",
   "metadata": {},
   "outputs": [],
   "source": [
    "# Import the 3D plotting toolkit from Matplotlib\n",
    "from mpl_toolkits.mplot3d import Axes3D\n",
    "\n",
    "# Create a new figure with a specified size\n",
    "fig = plt.figure(figsize=(10, 7))\n",
    "\n",
    "# Add a 3D subplot to the figure for 3D visualization\n",
    "ax = fig.add_subplot(111, projection='3d')\n",
    "\n",
    "\n",
    "# Uncomment and modify if you have 3D data\n",
    "# ax.scatter(embedded_df['X'], embedded_df['Y'], embedded_df['Z'], c=labels, cmap='viridis')\n",
    "# ax.set_title('3D Visualization')\n",
    "# plt.show()"
   ]
  },
  {
   "cell_type": "markdown",
   "id": "263702dd",
   "metadata": {},
   "source": [
    "### 🎛️ Optional: Interactive Parameters (Requires ipywidgets)"
   ]
  },
  {
   "cell_type": "code",
   "execution_count": null,
   "id": "2a2319a1",
   "metadata": {},
   "outputs": [],
   "source": [
    "from ipywidgets import interact  # Import the interact function from ipywidgets for creating interactive widgets\n",
    "\n",
    "# Define a function that updates the plot based on the number of components\n",
    "def update(n_components=2):  \n",
    "    # Initialize a PCA model with the specified number of components\n",
    "    model = PCA(n_components=n_components)  \n",
    "    \n",
    "    # Apply PCA to the standardized data and get the transformed result\n",
    "    result = model.fit_transform(scaled_data)  \n",
    "    \n",
    "    # Create a DataFrame for the PCA components with appropriate column names\n",
    "    df_plot = pd.DataFrame(result, columns=['Component {}'.format(i+1) for i in range(n_components)])  \n",
    "    \n",
    "    # Set the figure size for the plot\n",
    "    plt.figure(figsize=(8, 6))  \n",
    "    \n",
    "    # Create a scatter plot of the first two components\n",
    "    sns.scatterplot(x=df_plot.iloc[:, 0], y=df_plot.iloc[:, 1])  \n",
    "    \n",
    "    # Set the title of the plot\n",
    "    plt.title('Independent Component Analysis Interactive')  \n",
    "    \n",
    "    # Label the x-axis\n",
    "    plt.xlabel('Component 1')  \n",
    "    \n",
    "    # Label the y-axis\n",
    "    plt.ylabel('Component 2')  \n",
    "    \n",
    "    # Add a grid to the plot for better readability\n",
    "    plt.grid(True)  \n",
    "    \n",
    "    # Display the plot\n",
    "    plt.show()  \n",
    "\n",
    "# Create an interactive widget to adjust the number of components between 2 and 10\n",
    "interact(update, n_components=(2, 10))  "
   ]
  }
 ],
 "metadata": {
  "language_info": {
   "name": "python"
  }
 },
 "nbformat": 4,
 "nbformat_minor": 5
}
