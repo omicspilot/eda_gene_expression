{
 "cells": [
  {
   "cell_type": "markdown",
   "id": "b070d139",
   "metadata": {},
   "source": [
    "# 📘 Non-negative Matrix Factorization (NMF)\n",
    "\n",
    "Use NMF to decompose gene expression data into additive, interpretable components. Works well when expression values are non-negative."
   ]
  },
  {
   "cell_type": "markdown",
   "id": "6af8c69b",
   "metadata": {},
   "source": [
    "### 🔧 Step 1: Import Required Libraries"
   ]
  },
  {
   "cell_type": "code",
   "execution_count": null,
   "id": "176344d5",
   "metadata": {},
   "outputs": [],
   "source": [
    "import pandas as pd\n",
    "import matplotlib.pyplot as plt\n",
    "from sklearn.decomposition import NMF\n",
    "from sklearn.preprocessing import MinMaxScaler\n",
    "import seaborn as sns"
   ]
  },
  {
   "cell_type": "markdown",
   "id": "2d29bfcc",
   "metadata": {},
   "source": [
    "### 📂 Step 2: Load and Normalize the Dataset"
   ]
  },
  {
   "cell_type": "code",
   "execution_count": null,
   "id": "bbacb8dd",
   "metadata": {},
   "outputs": [],
   "source": [
    "# Load the gene expression data from a CSV file, using the first column as the index\n",
    "df = pd.read_csv('your_expression_data.csv', index_col=0)\n",
    "\n",
    "# Initialize a MinMaxScaler to scale the data to a range between 0 and 1\n",
    "scaler = MinMaxScaler()\n",
    "\n",
    "# Apply the scaler to normalize the data\n",
    "norm_data = scaler.fit_transform(df)"
   ]
  },
  {
   "cell_type": "markdown",
   "id": "edee412c",
   "metadata": {},
   "source": [
    "### 📉 Step 3: Apply NMF"
   ]
  },
  {
   "cell_type": "code",
   "execution_count": null,
   "id": "5cd66b23",
   "metadata": {},
   "outputs": [],
   "source": [
    "# Initialize the NMF model with 2 components and a fixed random state for reproducibility\n",
    "nmf = NMF(n_components=2, random_state=42)\n",
    "\n",
    "# Apply the NMF model to the normalized data to obtain the transformed matrix\n",
    "nmf_result = nmf.fit_transform(norm_data)\n",
    "\n",
    "# Create a DataFrame from the NMF result with appropriate column names\n",
    "nmf_df = pd.DataFrame(nmf_result, columns=['Component 1', 'Component 2'])"
   ]
  },
  {
   "cell_type": "markdown",
   "id": "dc81410a",
   "metadata": {},
   "source": [
    "### 📊 Step 4: Visualize NMF Components"
   ]
  },
  {
   "cell_type": "code",
   "execution_count": null,
   "id": "97f3fa54",
   "metadata": {},
   "outputs": [],
   "source": [
    "# Set the figure size for the plot\n",
    "plt.figure(figsize=(8,6))\n",
    "\n",
    "# Create a scatter plot using seaborn with 'Component 1' on the x-axis and 'Component 2' on the y-axis\n",
    "sns.scatterplot(data=nmf_df, x='Component 1', y='Component 2')\n",
    "\n",
    "# Set the title of the plot\n",
    "plt.title('NMF of Gene Expression Data')\n",
    "\n",
    "# Label the x-axis\n",
    "plt.xlabel('Component 1')\n",
    "\n",
    "# Label the y-axis\n",
    "plt.ylabel('Component 2')\n",
    "\n",
    "# Enable grid lines for better readability\n",
    "plt.grid(True)\n",
    "\n",
    "# Display the plot\n",
    "plt.show()"
   ]
  },
  {
   "cell_type": "markdown",
   "id": "6ea45850",
   "metadata": {},
   "source": [
    "### 🏷️ Optional: Load Labels for Coloring"
   ]
  },
  {
   "cell_type": "code",
   "execution_count": null,
   "id": "366ed893",
   "metadata": {},
   "outputs": [],
   "source": [
    "# Uncomment and use if you have a label file\n",
    "# labels = pd.read_csv('your_labels.csv', index_col=0).squeeze()\n",
    "# df['Label'] = labels"
   ]
  },
  {
   "cell_type": "markdown",
   "id": "0d508b92",
   "metadata": {},
   "source": [
    "### 💾 Optional: Save Transformed Data"
   ]
  },
  {
   "cell_type": "code",
   "execution_count": null,
   "id": "23525b21",
   "metadata": {},
   "outputs": [],
   "source": [
    "# Save the result of Non-negative Matrix Factorization (NMF) transformation\n",
    "# non-negative matrix factorization (nmf)_df.to_csv('non-negative matrix factorization (nmf)_result.csv')"
   ]
  },
  {
   "cell_type": "markdown",
   "id": "eec9950e",
   "metadata": {},
   "source": [
    "### 🌐 Optional: 3D Visualization"
   ]
  },
  {
   "cell_type": "code",
   "execution_count": null,
   "id": "e3c4f3f2",
   "metadata": {},
   "outputs": [],
   "source": [
    "# Import the 3D plotting toolkit from Matplotlibatplotlib\n",
    "from mpl_toolkits.mplot3d import Axes3DAxes3D\n",
    "\n",
    "# Create a new figure with a specified size\n",
    "fig = plt.figure(figsize=(10, 7))# Create a new figure with a specified size\n",
    "\n",
    "# Add a 3D subplot to the figure for 3D visualization\n",
    "ax = fig.add_subplot(111, projection='3d')\n",
    "\n",
    "# Uncomment and modify if you have 3D data\n",
    "# ax.scatter(embedded_df['X'], embedded_df['Y'], embedded_df['Z'], c=labels, cmap='viridis')\n",
    "# ax.set_title('3D Visualization')\n",
    "# plt.show()"
   ]
  },
  {
   "cell_type": "markdown",
   "id": "4f8adcdd",
   "metadata": {},
   "source": [
    "### 🎛️ Optional: Interactive Parameters (Requires ipywidgets)"
   ]
  },
  {
   "cell_type": "code",
   "execution_count": null,
   "id": "476f340e",
   "metadata": {},
   "outputs": [],
   "source": [
    "# Import the interact function from ipywidgets for creating interactive widgets\n",
    "from ipywidgets import interact\n",
    "\n",
    "# Define a function to update the visualization based on the number of components\n",
    "def update(n_components=2):\n",
    "    # Initialize a PCA model with the specified number of components\n",
    "    model = PCA(n_components=n_components)\n",
    "    \n",
    "    # Apply the PCA model to the scaled data to obtain the transformed result\n",
    "    result = model.fit_transform(scaled_data)\n",
    "    \n",
    "    # Create a DataFrame from the PCA result with appropriate column names\n",
    "    df_plot = pd.DataFrame(result, columns=['Component {}'.format(i+1) for i in range(n_components)])\n",
    "    \n",
    "    # Set the figure size for the plot\n",
    "    plt.figure(figsize=(8, 6))\n",
    "    \n",
    "    # Create a scatter plot using seaborn with the first two components\n",
    "    sns.scatterplot(x=df_plot.iloc[:, 0], y=df_plot.iloc[:, 1])\n",
    "    \n",
    "    # Set the title of the plot\n",
    "    plt.title('Non-negative Matrix Factorization (NMF) Interactive')\n",
    "    \n",
    "    # Label the x-axis\n",
    "    plt.xlabel('Component 1')\n",
    "    \n",
    "    # Label the y-axis\n",
    "    plt.ylabel('Component 2')\n",
    "    \n",
    "    # Enable grid lines for better readability\n",
    "    plt.grid(True)\n",
    "    \n",
    "    # Display the plot\n",
    "    plt.show()\n",
    "\n",
    "# Create an interactive widget to adjust the number of components between 2 and 10\n",
    "interact(update, n_components=(2, 10))"
   ]
  }
 ],
 "metadata": {
  "language_info": {
   "name": "python"
  }
 },
 "nbformat": 4,
 "nbformat_minor": 5
}
